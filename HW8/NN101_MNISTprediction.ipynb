{
  "nbformat": 4,
  "nbformat_minor": 0,
  "metadata": {
    "colab": {
      "provenance": [],
      "gpuType": "T4",
      "include_colab_link": true
    },
    "kernelspec": {
      "name": "python3",
      "display_name": "Python 3"
    },
    "language_info": {
      "name": "python"
    },
    "accelerator": "GPU"
  },
  "cells": [
    {
      "cell_type": "markdown",
      "metadata": {
        "id": "view-in-github",
        "colab_type": "text"
      },
      "source": [
        "<a href=\"https://colab.research.google.com/github/1lamoyspencer/FDSFE_LSpencer/blob/main/HW8/NN101_MNISTprediction.ipynb\" target=\"_parent\"><img src=\"https://colab.research.google.com/assets/colab-badge.svg\" alt=\"Open In Colab\"/></a>"
      ]
    },
    {
      "cell_type": "markdown",
      "source": [
        "The goal of this homework is to create three neural network to solve the same problem and compare the performance of each. The problem is the classic prediction of hand written digits. We use the MNIST benchmark dataset which contains 60,000 images of handwritten digits and the corresponding labels"
      ],
      "metadata": {
        "id": "jrZz8vX-m7iG"
      }
    },
    {
      "cell_type": "code",
      "execution_count": 1,
      "metadata": {
        "id": "gfUuRbTECORT"
      },
      "outputs": [],
      "source": [
        "import tensorflow as tf\n",
        "import matplotlib.pyplot as plt\n",
        "import numpy as np\n",
        "from tensorflow.keras.callbacks import EarlyStopping\n"
      ]
    },
    {
      "cell_type": "code",
      "source": [
        "#download the data\n",
        "mnist = tf.keras.datasets.mnist\n",
        "(x_train, y_train), (x_test, y_test) = mnist.load_data()"
      ],
      "metadata": {
        "id": "CI-jucDYC03Z"
      },
      "execution_count": 2,
      "outputs": []
    },
    {
      "cell_type": "code",
      "source": [
        "# how many labels are available?\n",
        "y_train.shape"
      ],
      "metadata": {
        "colab": {
          "base_uri": "https://localhost:8080/"
        },
        "id": "iuD_VG7EDcrW",
        "outputId": "c351445d-0a37-4504-924e-bd1a2bd3aa78"
      },
      "execution_count": 3,
      "outputs": [
        {
          "output_type": "execute_result",
          "data": {
            "text/plain": [
              "(60000,)"
            ]
          },
          "metadata": {},
          "execution_count": 3
        }
      ]
    },
    {
      "cell_type": "code",
      "source": [
        "#what is the shape of the postage stamps that constitute the dataset?\n",
        "x_train.shape"
      ],
      "metadata": {
        "colab": {
          "base_uri": "https://localhost:8080/"
        },
        "id": "aFbX8xlEDzHh",
        "outputId": "e50edd79-7c68-4f79-8c51-6b15f5fd9d69"
      },
      "execution_count": 4,
      "outputs": [
        {
          "output_type": "execute_result",
          "data": {
            "text/plain": [
              "(60000, 28, 28)"
            ]
          },
          "metadata": {},
          "execution_count": 4
        }
      ]
    },
    {
      "cell_type": "code",
      "source": [
        "plt.imshow(x_train[0])\n",
        "\n",
        "#YOUR CODE GOES HERE"
      ],
      "metadata": {
        "colab": {
          "base_uri": "https://localhost:8080/",
          "height": 448
        },
        "id": "wlAJPOVzD3Kn",
        "outputId": "1660c9b5-120f-40aa-9e8c-e652d0a9ac06"
      },
      "execution_count": 5,
      "outputs": [
        {
          "output_type": "execute_result",
          "data": {
            "text/plain": [
              "<matplotlib.image.AxesImage at 0x7ec09a529570>"
            ]
          },
          "metadata": {},
          "execution_count": 5
        },
        {
          "output_type": "display_data",
          "data": {
            "text/plain": [
              "<Figure size 640x480 with 1 Axes>"
            ],
            "image/png": "[encoded data removed]"
          },
          "metadata": {}
        }
      ]
    },
    {
      "cell_type": "code",
      "source": [
        "print(np.unique(y_train))"
      ],
      "metadata": {
        "id": "EEBSFCPuEAyQ",
        "colab": {
          "base_uri": "https://localhost:8080/"
        },
        "outputId": "aa8bb39e-c6c7-4250-f594-5123d74e7809"
      },
      "execution_count": 6,
      "outputs": [
        {
          "output_type": "stream",
          "name": "stdout",
          "text": [
            "[0 1 2 3 4 5 6 7 8 9]\n"
          ]
        }
      ]
    },
    {
      "cell_type": "code",
      "source": [
        "print(x_train.min(), x_train.max(), x_train.dtype)"
      ],
      "metadata": {
        "id": "4tjUUsqOELhP",
        "colab": {
          "base_uri": "https://localhost:8080/"
        },
        "outputId": "502b4f95-0319-42c0-c514-d3683a3329ef"
      },
      "execution_count": 7,
      "outputs": [
        {
          "output_type": "stream",
          "name": "stdout",
          "text": [
            "0 255 uint8\n"
          ]
        }
      ]
    },
    {
      "cell_type": "code",
      "source": [
        "x_train = x_train.astype(np.float32) / 255.0\n",
        "x_test = x_test.astype(np.float32) / 255.0"
      ],
      "metadata": {
        "id": "O9c7pvCiEPBT"
      },
      "execution_count": 8,
      "outputs": []
    },
    {
      "cell_type": "code",
      "source": [
        "# the shape should have not changed\n",
        "x_train.shape"
      ],
      "metadata": {
        "colab": {
          "base_uri": "https://localhost:8080/"
        },
        "id": "ojr_ateAElqV",
        "outputId": "0fc61c3d-2195-49d6-d96c-9a6ab7198785"
      },
      "execution_count": 9,
      "outputs": [
        {
          "output_type": "execute_result",
          "data": {
            "text/plain": [
              "(60000, 28, 28)"
            ]
          },
          "metadata": {},
          "execution_count": 9
        }
      ]
    },
    {
      "cell_type": "code",
      "source": [
        "#the number of pixels in the data is\n",
        "28*28"
      ],
      "metadata": {
        "colab": {
          "base_uri": "https://localhost:8080/"
        },
        "id": "-P9gsr1rGNvq",
        "outputId": "795615be-c3ff-413e-d67b-a8f756d79742"
      },
      "execution_count": 10,
      "outputs": [
        {
          "output_type": "execute_result",
          "data": {
            "text/plain": [
              "784"
            ]
          },
          "metadata": {},
          "execution_count": 10
        }
      ]
    },
    {
      "cell_type": "markdown",
      "source": [
        "# Build the first Artificial Neural Network\n",
        "solve the problem as a regression - see slides for the appropriate choices\n",
        "\n",
        "- use dense layers\n",
        "- choose the right number of neurons in output to solve a _regression_ problem\n",
        "- choose the right activation function on the last layer for a _regression_ problem\n",
        "- chose the right loss function for a _regression_ problem\n"
      ],
      "metadata": {
        "id": "RIQNmcwcn1li"
      }
    },
    {
      "cell_type": "code",
      "source": [
        "# architecture hyperparametrs\n",
        "model = tf.keras.models.Sequential()\n",
        "model.add(tf.keras.layers.Flatten(input_shape=(28,28)))\n",
        "# add 1 dense layer with 128 neurons and relu activation function\n",
        "# add 1 dropout layers dropping 20% of the connections\n",
        "# add 1 dense layer with 10 neurons\n",
        "# add the output  layer with 1\n",
        "# your code goes here\n",
        "model.add(tf.keras.layers.Flatten(input_shape=(28,28)))\n",
        "model.add(tf.keras.layers.Dense(128, activation='relu'))\n",
        "model.add(tf.keras.layers.Dropout(0.2))\n",
        "model.add(tf.keras.layers.Dense(10))\n",
        "model.add(tf.keras.layers.Dense(1))\n",
        "model.summary()\n"
      ],
      "metadata": {
        "colab": {
          "base_uri": "https://localhost:8080/",
          "height": 374
        },
        "id": "k0ais0jQEzz4",
        "outputId": "37c98a83-35e5-4200-aff1-85567c3ed335"
      },
      "execution_count": 11,
      "outputs": [
        {
          "output_type": "stream",
          "name": "stderr",
          "text": [
            "/usr/local/lib/python3.10/dist-packages/keras/src/layers/reshaping/flatten.py:37: UserWarning: Do not pass an `input_shape`/`input_dim` argument to a layer. When using Sequential models, prefer using an `Input(shape)` object as the first layer in the model instead.\n",
            "  super().__init__(**kwargs)\n"
          ]
        },
        {
          "output_type": "display_data",
          "data": {
            "text/plain": [
              "\u001b[1mModel: \"sequential\"\u001b[0m\n"
            ],
            "text/html": [
              "<pre style=\"white-space:pre;overflow-x:auto;line-height:normal;font-family:Menlo,'DejaVu Sans Mono',consolas,'Courier New',monospace\"><span style=\"font-weight: bold\">Model: \"sequential\"</span>\n",
              "</pre>\n"
            ]
          },
          "metadata": {}
        },
        {
          "output_type": "display_data",
          "data": {
            "text/plain": [
              "┏━━━━━━━━━━━━━━━━━━━━━━━━━━━━━━━━━━━━━━┳━━━━━━━━━━━━━━━━━━━━━━━━━━━━━┳━━━━━━━━━━━━━━━━━┓\n",
              "┃\u001b[1m \u001b[0m\u001b[1mLayer (type)                        \u001b[0m\u001b[1m \u001b[0m┃\u001b[1m \u001b[0m\u001b[1mOutput Shape               \u001b[0m\u001b[1m \u001b[0m┃\u001b[1m \u001b[0m\u001b[1m        Param #\u001b[0m\u001b[1m \u001b[0m┃\n",
              "┡━━━━━━━━━━━━━━━━━━━━━━━━━━━━━━━━━━━━━━╇━━━━━━━━━━━━━━━━━━━━━━━━━━━━━╇━━━━━━━━━━━━━━━━━┩\n",
              "│ flatten (\u001b[38;5;33mFlatten\u001b[0m)                    │ (\u001b[38;5;45mNone\u001b[0m, \u001b[38;5;34m784\u001b[0m)                 │               \u001b[38;5;34m0\u001b[0m │\n",
              "├──────────────────────────────────────┼─────────────────────────────┼─────────────────┤\n",
              "│ flatten_1 (\u001b[38;5;33mFlatten\u001b[0m)                  │ (\u001b[38;5;45mNone\u001b[0m, \u001b[38;5;34m784\u001b[0m)                 │               \u001b[38;5;34m0\u001b[0m │\n",
              "├──────────────────────────────────────┼─────────────────────────────┼─────────────────┤\n",
              "│ dense (\u001b[38;5;33mDense\u001b[0m)                        │ (\u001b[38;5;45mNone\u001b[0m, \u001b[38;5;34m128\u001b[0m)                 │         \u001b[38;5;34m100,480\u001b[0m │\n",
              "├──────────────────────────────────────┼─────────────────────────────┼─────────────────┤\n",
              "│ dropout (\u001b[38;5;33mDropout\u001b[0m)                    │ (\u001b[38;5;45mNone\u001b[0m, \u001b[38;5;34m128\u001b[0m)                 │               \u001b[38;5;34m0\u001b[0m │\n",
              "├──────────────────────────────────────┼─────────────────────────────┼─────────────────┤\n",
              "│ dense_1 (\u001b[38;5;33mDense\u001b[0m)                      │ (\u001b[38;5;45mNone\u001b[0m, \u001b[38;5;34m10\u001b[0m)                  │           \u001b[38;5;34m1,290\u001b[0m │\n",
              "├──────────────────────────────────────┼─────────────────────────────┼─────────────────┤\n",
              "│ dense_2 (\u001b[38;5;33mDense\u001b[0m)                      │ (\u001b[38;5;45mNone\u001b[0m, \u001b[38;5;34m1\u001b[0m)                   │              \u001b[38;5;34m11\u001b[0m │\n",
              "└──────────────────────────────────────┴─────────────────────────────┴─────────────────┘\n"
            ],
            "text/html": [
              "<pre style=\"white-space:pre;overflow-x:auto;line-height:normal;font-family:Menlo,'DejaVu Sans Mono',consolas,'Courier New',monospace\">┏━━━━━━━━━━━━━━━━━━━━━━━━━━━━━━━━━━━━━━┳━━━━━━━━━━━━━━━━━━━━━━━━━━━━━┳━━━━━━━━━━━━━━━━━┓\n",
              "┃<span style=\"font-weight: bold\"> Layer (type)                         </span>┃<span style=\"font-weight: bold\"> Output Shape                </span>┃<span style=\"font-weight: bold\">         Param # </span>┃\n",
              "┡━━━━━━━━━━━━━━━━━━━━━━━━━━━━━━━━━━━━━━╇━━━━━━━━━━━━━━━━━━━━━━━━━━━━━╇━━━━━━━━━━━━━━━━━┩\n",
              "│ flatten (<span style=\"color: #0087ff; text-decoration-color: #0087ff\">Flatten</span>)                    │ (<span style=\"color: #00d7ff; text-decoration-color: #00d7ff\">None</span>, <span style=\"color: #00af00; text-decoration-color: #00af00\">784</span>)                 │               <span style=\"color: #00af00; text-decoration-color: #00af00\">0</span> │\n",
              "├──────────────────────────────────────┼─────────────────────────────┼─────────────────┤\n",
              "│ flatten_1 (<span style=\"color: #0087ff; text-decoration-color: #0087ff\">Flatten</span>)                  │ (<span style=\"color: #00d7ff; text-decoration-color: #00d7ff\">None</span>, <span style=\"color: #00af00; text-decoration-color: #00af00\">784</span>)                 │               <span style=\"color: #00af00; text-decoration-color: #00af00\">0</span> │\n",
              "├──────────────────────────────────────┼─────────────────────────────┼─────────────────┤\n",
              "│ dense (<span style=\"color: #0087ff; text-decoration-color: #0087ff\">Dense</span>)                        │ (<span style=\"color: #00d7ff; text-decoration-color: #00d7ff\">None</span>, <span style=\"color: #00af00; text-decoration-color: #00af00\">128</span>)                 │         <span style=\"color: #00af00; text-decoration-color: #00af00\">100,480</span> │\n",
              "├──────────────────────────────────────┼─────────────────────────────┼─────────────────┤\n",
              "│ dropout (<span style=\"color: #0087ff; text-decoration-color: #0087ff\">Dropout</span>)                    │ (<span style=\"color: #00d7ff; text-decoration-color: #00d7ff\">None</span>, <span style=\"color: #00af00; text-decoration-color: #00af00\">128</span>)                 │               <span style=\"color: #00af00; text-decoration-color: #00af00\">0</span> │\n",
              "├──────────────────────────────────────┼─────────────────────────────┼─────────────────┤\n",
              "│ dense_1 (<span style=\"color: #0087ff; text-decoration-color: #0087ff\">Dense</span>)                      │ (<span style=\"color: #00d7ff; text-decoration-color: #00d7ff\">None</span>, <span style=\"color: #00af00; text-decoration-color: #00af00\">10</span>)                  │           <span style=\"color: #00af00; text-decoration-color: #00af00\">1,290</span> │\n",
              "├──────────────────────────────────────┼─────────────────────────────┼─────────────────┤\n",
              "│ dense_2 (<span style=\"color: #0087ff; text-decoration-color: #0087ff\">Dense</span>)                      │ (<span style=\"color: #00d7ff; text-decoration-color: #00d7ff\">None</span>, <span style=\"color: #00af00; text-decoration-color: #00af00\">1</span>)                   │              <span style=\"color: #00af00; text-decoration-color: #00af00\">11</span> │\n",
              "└──────────────────────────────────────┴─────────────────────────────┴─────────────────┘\n",
              "</pre>\n"
            ]
          },
          "metadata": {}
        },
        {
          "output_type": "display_data",
          "data": {
            "text/plain": [
              "\u001b[1m Total params: \u001b[0m\u001b[38;5;34m101,781\u001b[0m (397.58 KB)\n"
            ],
            "text/html": [
              "<pre style=\"white-space:pre;overflow-x:auto;line-height:normal;font-family:Menlo,'DejaVu Sans Mono',consolas,'Courier New',monospace\"><span style=\"font-weight: bold\"> Total params: </span><span style=\"color: #00af00; text-decoration-color: #00af00\">101,781</span> (397.58 KB)\n",
              "</pre>\n"
            ]
          },
          "metadata": {}
        },
        {
          "output_type": "display_data",
          "data": {
            "text/plain": [
              "\u001b[1m Trainable params: \u001b[0m\u001b[38;5;34m101,781\u001b[0m (397.58 KB)\n"
            ],
            "text/html": [
              "<pre style=\"white-space:pre;overflow-x:auto;line-height:normal;font-family:Menlo,'DejaVu Sans Mono',consolas,'Courier New',monospace\"><span style=\"font-weight: bold\"> Trainable params: </span><span style=\"color: #00af00; text-decoration-color: #00af00\">101,781</span> (397.58 KB)\n",
              "</pre>\n"
            ]
          },
          "metadata": {}
        },
        {
          "output_type": "display_data",
          "data": {
            "text/plain": [
              "\u001b[1m Non-trainable params: \u001b[0m\u001b[38;5;34m0\u001b[0m (0.00 B)\n"
            ],
            "text/html": [
              "<pre style=\"white-space:pre;overflow-x:auto;line-height:normal;font-family:Menlo,'DejaVu Sans Mono',consolas,'Courier New',monospace\"><span style=\"font-weight: bold\"> Non-trainable params: </span><span style=\"color: #00af00; text-decoration-color: #00af00\">0</span> (0.00 B)\n",
              "</pre>\n"
            ]
          },
          "metadata": {}
        }
      ]
    },
    {
      "cell_type": "code",
      "source": [
        "tf.keras.utils.plot_model(model)"
      ],
      "metadata": {
        "colab": {
          "base_uri": "https://localhost:8080/",
          "height": 1000
        },
        "id": "TtClRvLcG4VV",
        "outputId": "b9d30343-572d-4d27-90c8-11a5097eefd0"
      },
      "execution_count": 12,
      "outputs": [
        {
          "output_type": "execute_result",
          "data": {
            "image/png": "[encoded data removed]",
            "text/plain": [
              "<IPython.core.display.Image object>"
            ]
          },
          "metadata": {},
          "execution_count": 12
        }
      ]
    },
    {
      "cell_type": "code",
      "source": [
        "# training hyperparameter\n",
        "# choose the MeanSquaredError and Adam as the optimizer\n",
        "\n",
        "loss_fn = tf.keras.losses.MeanSquaredError()\n",
        "optimizer = tf.keras.optimizers.Adam()"
      ],
      "metadata": {
        "id": "gjLqvxoJFTwH"
      },
      "execution_count": 13,
      "outputs": []
    },
    {
      "cell_type": "code",
      "source": [
        "# Define the EarlyStopping callback\n",
        "callback = tf.keras.callbacks.EarlyStopping(\n",
        "    monitor='val_loss',\n",
        "    patience=10,\n",
        "    restore_best_weights=True,\n",
        ")"
      ],
      "metadata": {
        "id": "6_dhXCy1Cx5Q"
      },
      "execution_count": 14,
      "outputs": []
    },
    {
      "cell_type": "code",
      "source": [
        "#train the model (did you make sure you are using GPUs??)\n",
        "# Compile the model\n",
        "model.compile(optimizer=optimizer, loss=loss_fn, metrics=['accuracy'])\n",
        "\n",
        "# Train the model and include the callback\n",
        "training_history = model.fit(\n",
        "    x_train,\n",
        "    y_train,\n",
        "    epochs=500,\n",
        "    validation_split=0.1,\n",
        "    callbacks=[callback]  # Pass the callback here\n",
        ")"
      ],
      "metadata": {
        "id": "cp73OULPH8aB",
        "colab": {
          "base_uri": "https://localhost:8080/"
        },
        "outputId": "c032ff82-87fd-4752-b75d-a0e6e011db1c"
      },
      "execution_count": 15,
      "outputs": [
        {
          "output_type": "stream",
          "name": "stdout",
          "text": [
            "Epoch 1/500\n",
            "\u001b[1m1688/1688\u001b[0m \u001b[32m━━━━━━━━━━━━━━━━━━━━\u001b[0m\u001b[37m\u001b[0m \u001b[1m7s\u001b[0m 3ms/step - accuracy: 0.1383 - loss: 3.1703 - val_accuracy: 0.1368 - val_loss: 1.1629\n",
            "Epoch 2/500\n",
            "\u001b[1m1688/1688\u001b[0m \u001b[32m━━━━━━━━━━━━━━━━━━━━\u001b[0m\u001b[37m\u001b[0m \u001b[1m7s\u001b[0m 2ms/step - accuracy: 0.1475 - loss: 1.3898 - val_accuracy: 0.1472 - val_loss: 0.9486\n",
            "Epoch 3/500\n",
            "\u001b[1m1688/1688\u001b[0m \u001b[32m━━━━━━━━━━━━━━━━━━━━\u001b[0m\u001b[37m\u001b[0m \u001b[1m3s\u001b[0m 2ms/step - accuracy: 0.1490 - loss: 1.1622 - val_accuracy: 0.1678 - val_loss: 0.8158\n",
            "Epoch 4/500\n",
            "\u001b[1m1688/1688\u001b[0m \u001b[32m━━━━━━━━━━━━━━━━━━━━\u001b[0m\u001b[37m\u001b[0m \u001b[1m4s\u001b[0m 2ms/step - accuracy: 0.1495 - loss: 1.0671 - val_accuracy: 0.1628 - val_loss: 0.8268\n",
            "Epoch 5/500\n",
            "\u001b[1m1688/1688\u001b[0m \u001b[32m━━━━━━━━━━━━━━━━━━━━\u001b[0m\u001b[37m\u001b[0m \u001b[1m3s\u001b[0m 2ms/step - accuracy: 0.1504 - loss: 0.9897 - val_accuracy: 0.1597 - val_loss: 0.7701\n",
            "Epoch 6/500\n",
            "\u001b[1m1688/1688\u001b[0m \u001b[32m━━━━━━━━━━━━━━━━━━━━\u001b[0m\u001b[37m\u001b[0m \u001b[1m3s\u001b[0m 2ms/step - accuracy: 0.1503 - loss: 0.9409 - val_accuracy: 0.1708 - val_loss: 0.7195\n",
            "Epoch 7/500\n",
            "\u001b[1m1688/1688\u001b[0m \u001b[32m━━━━━━━━━━━━━━━━━━━━\u001b[0m\u001b[37m\u001b[0m \u001b[1m6s\u001b[0m 2ms/step - accuracy: 0.1514 - loss: 0.9234 - val_accuracy: 0.1630 - val_loss: 0.7348\n",
            "Epoch 8/500\n",
            "\u001b[1m1688/1688\u001b[0m \u001b[32m━━━━━━━━━━━━━━━━━━━━\u001b[0m\u001b[37m\u001b[0m \u001b[1m4s\u001b[0m 2ms/step - accuracy: 0.1533 - loss: 0.8737 - val_accuracy: 0.1520 - val_loss: 0.7301\n",
            "Epoch 9/500\n",
            "\u001b[1m1688/1688\u001b[0m \u001b[32m━━━━━━━━━━━━━━━━━━━━\u001b[0m\u001b[37m\u001b[0m \u001b[1m3s\u001b[0m 2ms/step - accuracy: 0.1491 - loss: 0.8630 - val_accuracy: 0.1710 - val_loss: 0.7011\n",
            "Epoch 10/500\n",
            "\u001b[1m1688/1688\u001b[0m \u001b[32m━━━━━━━━━━━━━━━━━━━━\u001b[0m\u001b[37m\u001b[0m \u001b[1m3s\u001b[0m 2ms/step - accuracy: 0.1531 - loss: 0.8388 - val_accuracy: 0.1815 - val_loss: 0.7393\n",
            "Epoch 11/500\n",
            "\u001b[1m1688/1688\u001b[0m \u001b[32m━━━━━━━━━━━━━━━━━━━━\u001b[0m\u001b[37m\u001b[0m \u001b[1m5s\u001b[0m 2ms/step - accuracy: 0.1553 - loss: 0.8122 - val_accuracy: 0.1840 - val_loss: 0.7754\n",
            "Epoch 12/500\n",
            "\u001b[1m1688/1688\u001b[0m \u001b[32m━━━━━━━━━━━━━━━━━━━━\u001b[0m\u001b[37m\u001b[0m \u001b[1m5s\u001b[0m 2ms/step - accuracy: 0.1548 - loss: 0.8067 - val_accuracy: 0.1653 - val_loss: 0.7283\n",
            "Epoch 13/500\n",
            "\u001b[1m1688/1688\u001b[0m \u001b[32m━━━━━━━━━━━━━━━━━━━━\u001b[0m\u001b[37m\u001b[0m \u001b[1m6s\u001b[0m 2ms/step - accuracy: 0.1551 - loss: 0.7741 - val_accuracy: 0.1723 - val_loss: 0.6920\n",
            "Epoch 14/500\n",
            "\u001b[1m1688/1688\u001b[0m \u001b[32m━━━━━━━━━━━━━━━━━━━━\u001b[0m\u001b[37m\u001b[0m \u001b[1m3s\u001b[0m 2ms/step - accuracy: 0.1581 - loss: 0.7576 - val_accuracy: 0.1720 - val_loss: 0.6936\n",
            "Epoch 15/500\n",
            "\u001b[1m1688/1688\u001b[0m \u001b[32m━━━━━━━━━━━━━━━━━━━━\u001b[0m\u001b[37m\u001b[0m \u001b[1m3s\u001b[0m 2ms/step - accuracy: 0.1540 - loss: 0.7562 - val_accuracy: 0.1717 - val_loss: 0.6802\n",
            "Epoch 16/500\n",
            "\u001b[1m1688/1688\u001b[0m \u001b[32m━━━━━━━━━━━━━━━━━━━━\u001b[0m\u001b[37m\u001b[0m \u001b[1m4s\u001b[0m 2ms/step - accuracy: 0.1528 - loss: 0.7496 - val_accuracy: 0.1473 - val_loss: 0.7087\n",
            "Epoch 17/500\n",
            "\u001b[1m1688/1688\u001b[0m \u001b[32m━━━━━━━━━━━━━━━━━━━━\u001b[0m\u001b[37m\u001b[0m \u001b[1m3s\u001b[0m 2ms/step - accuracy: 0.1577 - loss: 0.7436 - val_accuracy: 0.1670 - val_loss: 0.7168\n",
            "Epoch 18/500\n",
            "\u001b[1m1688/1688\u001b[0m \u001b[32m━━━━━━━━━━━━━━━━━━━━\u001b[0m\u001b[37m\u001b[0m \u001b[1m5s\u001b[0m 2ms/step - accuracy: 0.1604 - loss: 0.7265 - val_accuracy: 0.1700 - val_loss: 0.6640\n",
            "Epoch 19/500\n",
            "\u001b[1m1688/1688\u001b[0m \u001b[32m━━━━━━━━━━━━━━━━━━━━\u001b[0m\u001b[37m\u001b[0m \u001b[1m6s\u001b[0m 2ms/step - accuracy: 0.1583 - loss: 0.7250 - val_accuracy: 0.1718 - val_loss: 0.6647\n",
            "Epoch 20/500\n",
            "\u001b[1m1688/1688\u001b[0m \u001b[32m━━━━━━━━━━━━━━━━━━━━\u001b[0m\u001b[37m\u001b[0m \u001b[1m4s\u001b[0m 2ms/step - accuracy: 0.1576 - loss: 0.7045 - val_accuracy: 0.1785 - val_loss: 0.6696\n",
            "Epoch 21/500\n",
            "\u001b[1m1688/1688\u001b[0m \u001b[32m━━━━━━━━━━━━━━━━━━━━\u001b[0m\u001b[37m\u001b[0m \u001b[1m5s\u001b[0m 2ms/step - accuracy: 0.1618 - loss: 0.6967 - val_accuracy: 0.1530 - val_loss: 0.6741\n",
            "Epoch 22/500\n",
            "\u001b[1m1688/1688\u001b[0m \u001b[32m━━━━━━━━━━━━━━━━━━━━\u001b[0m\u001b[37m\u001b[0m \u001b[1m5s\u001b[0m 2ms/step - accuracy: 0.1564 - loss: 0.6723 - val_accuracy: 0.1687 - val_loss: 0.6713\n",
            "Epoch 23/500\n",
            "\u001b[1m1688/1688\u001b[0m \u001b[32m━━━━━━━━━━━━━━━━━━━━\u001b[0m\u001b[37m\u001b[0m \u001b[1m5s\u001b[0m 2ms/step - accuracy: 0.1570 - loss: 0.6673 - val_accuracy: 0.1507 - val_loss: 0.6621\n",
            "Epoch 24/500\n",
            "\u001b[1m1688/1688\u001b[0m \u001b[32m━━━━━━━━━━━━━━━━━━━━\u001b[0m\u001b[37m\u001b[0m \u001b[1m4s\u001b[0m 2ms/step - accuracy: 0.1559 - loss: 0.6783 - val_accuracy: 0.1723 - val_loss: 0.6622\n",
            "Epoch 25/500\n",
            "\u001b[1m1688/1688\u001b[0m \u001b[32m━━━━━━━━━━━━━━━━━━━━\u001b[0m\u001b[37m\u001b[0m \u001b[1m3s\u001b[0m 2ms/step - accuracy: 0.1599 - loss: 0.6537 - val_accuracy: 0.1660 - val_loss: 0.6567\n",
            "Epoch 26/500\n",
            "\u001b[1m1688/1688\u001b[0m \u001b[32m━━━━━━━━━━━━━━━━━━━━\u001b[0m\u001b[37m\u001b[0m \u001b[1m5s\u001b[0m 2ms/step - accuracy: 0.1597 - loss: 0.6649 - val_accuracy: 0.1745 - val_loss: 0.6503\n",
            "Epoch 27/500\n",
            "\u001b[1m1688/1688\u001b[0m \u001b[32m━━━━━━━━━━━━━━━━━━━━\u001b[0m\u001b[37m\u001b[0m \u001b[1m4s\u001b[0m 2ms/step - accuracy: 0.1581 - loss: 0.6419 - val_accuracy: 0.1738 - val_loss: 0.6473\n",
            "Epoch 28/500\n",
            "\u001b[1m1688/1688\u001b[0m \u001b[32m━━━━━━━━━━━━━━━━━━━━\u001b[0m\u001b[37m\u001b[0m \u001b[1m4s\u001b[0m 2ms/step - accuracy: 0.1594 - loss: 0.6376 - val_accuracy: 0.1610 - val_loss: 0.6687\n",
            "Epoch 29/500\n",
            "\u001b[1m1688/1688\u001b[0m \u001b[32m━━━━━━━━━━━━━━━━━━━━\u001b[0m\u001b[37m\u001b[0m \u001b[1m3s\u001b[0m 2ms/step - accuracy: 0.1592 - loss: 0.6338 - val_accuracy: 0.1745 - val_loss: 0.6598\n",
            "Epoch 30/500\n",
            "\u001b[1m1688/1688\u001b[0m \u001b[32m━━━━━━━━━━━━━━━━━━━━\u001b[0m\u001b[37m\u001b[0m \u001b[1m6s\u001b[0m 3ms/step - accuracy: 0.1601 - loss: 0.6335 - val_accuracy: 0.1743 - val_loss: 0.6483\n",
            "Epoch 31/500\n",
            "\u001b[1m1688/1688\u001b[0m \u001b[32m━━━━━━━━━━━━━━━━━━━━\u001b[0m\u001b[37m\u001b[0m \u001b[1m4s\u001b[0m 2ms/step - accuracy: 0.1627 - loss: 0.6257 - val_accuracy: 0.1725 - val_loss: 0.6635\n",
            "Epoch 32/500\n",
            "\u001b[1m1688/1688\u001b[0m \u001b[32m━━━━━━━━━━━━━━━━━━━━\u001b[0m\u001b[37m\u001b[0m \u001b[1m3s\u001b[0m 2ms/step - accuracy: 0.1627 - loss: 0.6131 - val_accuracy: 0.1560 - val_loss: 0.6544\n",
            "Epoch 33/500\n",
            "\u001b[1m1688/1688\u001b[0m \u001b[32m━━━━━━━━━━━━━━━━━━━━\u001b[0m\u001b[37m\u001b[0m \u001b[1m6s\u001b[0m 2ms/step - accuracy: 0.1577 - loss: 0.6226 - val_accuracy: 0.1717 - val_loss: 0.6395\n",
            "Epoch 34/500\n",
            "\u001b[1m1688/1688\u001b[0m \u001b[32m━━━━━━━━━━━━━━━━━━━━\u001b[0m\u001b[37m\u001b[0m \u001b[1m3s\u001b[0m 2ms/step - accuracy: 0.1638 - loss: 0.6122 - val_accuracy: 0.1695 - val_loss: 0.6484\n",
            "Epoch 35/500\n",
            "\u001b[1m1688/1688\u001b[0m \u001b[32m━━━━━━━━━━━━━━━━━━━━\u001b[0m\u001b[37m\u001b[0m \u001b[1m5s\u001b[0m 2ms/step - accuracy: 0.1584 - loss: 0.6084 - val_accuracy: 0.1697 - val_loss: 0.6506\n",
            "Epoch 36/500\n",
            "\u001b[1m1688/1688\u001b[0m \u001b[32m━━━━━━━━━━━━━━━━━━━━\u001b[0m\u001b[37m\u001b[0m \u001b[1m4s\u001b[0m 2ms/step - accuracy: 0.1620 - loss: 0.5983 - val_accuracy: 0.1753 - val_loss: 0.6406\n",
            "Epoch 37/500\n",
            "\u001b[1m1688/1688\u001b[0m \u001b[32m━━━━━━━━━━━━━━━━━━━━\u001b[0m\u001b[37m\u001b[0m \u001b[1m3s\u001b[0m 2ms/step - accuracy: 0.1607 - loss: 0.5968 - val_accuracy: 0.1747 - val_loss: 0.6684\n",
            "Epoch 38/500\n",
            "\u001b[1m1688/1688\u001b[0m \u001b[32m━━━━━━━━━━━━━━━━━━━━\u001b[0m\u001b[37m\u001b[0m \u001b[1m3s\u001b[0m 2ms/step - accuracy: 0.1607 - loss: 0.5976 - val_accuracy: 0.1775 - val_loss: 0.6821\n",
            "Epoch 39/500\n",
            "\u001b[1m1688/1688\u001b[0m \u001b[32m━━━━━━━━━━━━━━━━━━━━\u001b[0m\u001b[37m\u001b[0m \u001b[1m3s\u001b[0m 2ms/step - accuracy: 0.1613 - loss: 0.5950 - val_accuracy: 0.1688 - val_loss: 0.6579\n",
            "Epoch 40/500\n",
            "\u001b[1m1688/1688\u001b[0m \u001b[32m━━━━━━━━━━━━━━━━━━━━\u001b[0m\u001b[37m\u001b[0m \u001b[1m4s\u001b[0m 2ms/step - accuracy: 0.1626 - loss: 0.5885 - val_accuracy: 0.1698 - val_loss: 0.6318\n",
            "Epoch 41/500\n",
            "\u001b[1m1688/1688\u001b[0m \u001b[32m━━━━━━━━━━━━━━━━━━━━\u001b[0m\u001b[37m\u001b[0m \u001b[1m4s\u001b[0m 2ms/step - accuracy: 0.1596 - loss: 0.5857 - val_accuracy: 0.1757 - val_loss: 0.6457\n",
            "Epoch 42/500\n",
            "\u001b[1m1688/1688\u001b[0m \u001b[32m━━━━━━━━━━━━━━━━━━━━\u001b[0m\u001b[37m\u001b[0m \u001b[1m5s\u001b[0m 2ms/step - accuracy: 0.1623 - loss: 0.5718 - val_accuracy: 0.1685 - val_loss: 0.6571\n",
            "Epoch 43/500\n",
            "\u001b[1m1688/1688\u001b[0m \u001b[32m━━━━━━━━━━━━━━━━━━━━\u001b[0m\u001b[37m\u001b[0m \u001b[1m4s\u001b[0m 2ms/step - accuracy: 0.1646 - loss: 0.5846 - val_accuracy: 0.1718 - val_loss: 0.6455\n",
            "Epoch 44/500\n",
            "\u001b[1m1688/1688\u001b[0m \u001b[32m━━━━━━━━━━━━━━━━━━━━\u001b[0m\u001b[37m\u001b[0m \u001b[1m3s\u001b[0m 2ms/step - accuracy: 0.1594 - loss: 0.5854 - val_accuracy: 0.1615 - val_loss: 0.6736\n",
            "Epoch 45/500\n",
            "\u001b[1m1688/1688\u001b[0m \u001b[32m━━━━━━━━━━━━━━━━━━━━\u001b[0m\u001b[37m\u001b[0m \u001b[1m3s\u001b[0m 2ms/step - accuracy: 0.1646 - loss: 0.5817 - val_accuracy: 0.1672 - val_loss: 0.6356\n",
            "Epoch 46/500\n",
            "\u001b[1m1688/1688\u001b[0m \u001b[32m━━━━━━━━━━━━━━━━━━━━\u001b[0m\u001b[37m\u001b[0m \u001b[1m6s\u001b[0m 2ms/step - accuracy: 0.1632 - loss: 0.5782 - val_accuracy: 0.1822 - val_loss: 0.6597\n",
            "Epoch 47/500\n",
            "\u001b[1m1688/1688\u001b[0m \u001b[32m━━━━━━━━━━━━━━━━━━━━\u001b[0m\u001b[37m\u001b[0m \u001b[1m4s\u001b[0m 2ms/step - accuracy: 0.1612 - loss: 0.5670 - val_accuracy: 0.1635 - val_loss: 0.6724\n",
            "Epoch 48/500\n",
            "\u001b[1m1688/1688\u001b[0m \u001b[32m━━━━━━━━━━━━━━━━━━━━\u001b[0m\u001b[37m\u001b[0m \u001b[1m5s\u001b[0m 2ms/step - accuracy: 0.1611 - loss: 0.5806 - val_accuracy: 0.1792 - val_loss: 0.6225\n",
            "Epoch 49/500\n",
            "\u001b[1m1688/1688\u001b[0m \u001b[32m━━━━━━━━━━━━━━━━━━━━\u001b[0m\u001b[37m\u001b[0m \u001b[1m5s\u001b[0m 2ms/step - accuracy: 0.1627 - loss: 0.5677 - val_accuracy: 0.1813 - val_loss: 0.6746\n",
            "Epoch 50/500\n",
            "\u001b[1m1688/1688\u001b[0m \u001b[32m━━━━━━━━━━━━━━━━━━━━\u001b[0m\u001b[37m\u001b[0m \u001b[1m3s\u001b[0m 2ms/step - accuracy: 0.1640 - loss: 0.5662 - val_accuracy: 0.1782 - val_loss: 0.6569\n",
            "Epoch 51/500\n",
            "\u001b[1m1688/1688\u001b[0m \u001b[32m━━━━━━━━━━━━━━━━━━━━\u001b[0m\u001b[37m\u001b[0m \u001b[1m3s\u001b[0m 2ms/step - accuracy: 0.1622 - loss: 0.5760 - val_accuracy: 0.1728 - val_loss: 0.6386\n",
            "Epoch 52/500\n",
            "\u001b[1m1688/1688\u001b[0m \u001b[32m━━━━━━━━━━━━━━━━━━━━\u001b[0m\u001b[37m\u001b[0m \u001b[1m6s\u001b[0m 2ms/step - accuracy: 0.1649 - loss: 0.5553 - val_accuracy: 0.1795 - val_loss: 0.6517\n",
            "Epoch 53/500\n",
            "\u001b[1m1688/1688\u001b[0m \u001b[32m━━━━━━━━━━━━━━━━━━━━\u001b[0m\u001b[37m\u001b[0m \u001b[1m5s\u001b[0m 2ms/step - accuracy: 0.1603 - loss: 0.5554 - val_accuracy: 0.1712 - val_loss: 0.6352\n",
            "Epoch 54/500\n",
            "\u001b[1m1688/1688\u001b[0m \u001b[32m━━━━━━━━━━━━━━━━━━━━\u001b[0m\u001b[37m\u001b[0m \u001b[1m3s\u001b[0m 2ms/step - accuracy: 0.1640 - loss: 0.5516 - val_accuracy: 0.1773 - val_loss: 0.6454\n",
            "Epoch 55/500\n",
            "\u001b[1m1688/1688\u001b[0m \u001b[32m━━━━━━━━━━━━━━━━━━━━\u001b[0m\u001b[37m\u001b[0m \u001b[1m4s\u001b[0m 2ms/step - accuracy: 0.1616 - loss: 0.5486 - val_accuracy: 0.1578 - val_loss: 0.6839\n",
            "Epoch 56/500\n",
            "\u001b[1m1688/1688\u001b[0m \u001b[32m━━━━━━━━━━━━━━━━━━━━\u001b[0m\u001b[37m\u001b[0m \u001b[1m4s\u001b[0m 2ms/step - accuracy: 0.1607 - loss: 0.5621 - val_accuracy: 0.1752 - val_loss: 0.6641\n",
            "Epoch 57/500\n",
            "\u001b[1m1688/1688\u001b[0m \u001b[32m━━━━━━━━━━━━━━━━━━━━\u001b[0m\u001b[37m\u001b[0m \u001b[1m5s\u001b[0m 2ms/step - accuracy: 0.1609 - loss: 0.5481 - val_accuracy: 0.1727 - val_loss: 0.6366\n",
            "Epoch 58/500\n",
            "\u001b[1m1688/1688\u001b[0m \u001b[32m━━━━━━━━━━━━━━━━━━━━\u001b[0m\u001b[37m\u001b[0m \u001b[1m5s\u001b[0m 2ms/step - accuracy: 0.1610 - loss: 0.5471 - val_accuracy: 0.1790 - val_loss: 0.6378\n"
          ]
        }
      ]
    },
    {
      "cell_type": "markdown",
      "source": [
        "the training_history object contains the loss curves: training loss as `training_history.history[\"loss\"]` and validation loss as `training_history.history[\"val_loss\"]` (note the validation_split argument to model.fit set to 10%).\n",
        "\n",
        "Show the training and validation losses and comment: is the model overfitting? at what epoch did it start to overfit?"
      ],
      "metadata": {
        "id": "ztQ4wTXeoykj"
      }
    },
    {
      "cell_type": "code",
      "source": [
        "plt.plot(training_history.history[\"loss\"], label=\"Training Loss\")\n",
        "plt.plot(training_history.history[\"val_loss\"], label=\"Validation Loss\")\n",
        "plt.xlabel(\"Epochs\")\n",
        "plt.ylabel(\"Loss\")\n",
        "plt.yscale('log')  # use a log scale for the y-axis\n",
        "plt.legend()\n",
        "plt.show()"
      ],
      "metadata": {
        "colab": {
          "base_uri": "https://localhost:8080/",
          "height": 449
        },
        "id": "zbiqD8DANc7X",
        "outputId": "ed7e3132-dca2-44be-b1bb-1ff7c23ca9d6"
      },
      "execution_count": 16,
      "outputs": [
        {
          "output_type": "display_data",
          "data": {
            "text/plain": [
              "<Figure size 640x480 with 1 Axes>"
            ],
            "image/png": "[encoded data removed]"
          },
          "metadata": {}
        }
      ]
    },
    {
      "cell_type": "code",
      "source": [
        "#check for overfitting\n",
        "if training_history.history['loss'][-1] < training_history.history['val_loss'][-1]:\n",
        "    print(\"Overfitting detected\")\n",
        "else:\n",
        "    print(\"No overfitting detected\")"
      ],
      "metadata": {
        "colab": {
          "base_uri": "https://localhost:8080/"
        },
        "id": "ybCojuHFN5jN",
        "outputId": "24246f26-aefa-4a31-b41a-0d5bc87cd775"
      },
      "execution_count": 17,
      "outputs": [
        {
          "output_type": "stream",
          "name": "stdout",
          "text": [
            "Overfitting detected\n"
          ]
        }
      ]
    },
    {
      "cell_type": "markdown",
      "source": [
        "The model is still overfitting despite early stopping, indicating that the stopping criteria isn't being triggered early enough. A way to detect overfitting is by analyzing the training and validation loss using the code I implemented above. If the training loss decreases while the validation loss begins to decline and then increase or plateau, it clearly indicates overfitting. To address this, I would increase the patience in early stopping, apply stronger regularization such as L2 (weight decay) to penalize large weights, and increase the dropout rate to prevent the model from relying too heavily on certain features. Additionally, reducing the model's complexity by decreasing the number of layers or neurons, along with augmenting the data to introduce more variability, would help improve generalization and prevent the model from memorizing the training data."
      ],
      "metadata": {
        "id": "VKYdrKahRuy1"
      }
    },
    {
      "cell_type": "code",
      "source": [
        "#what is the accuracy of the model? use model.evaluat to assess it\n",
        "loss, accuracy = model.evaluate(x_test, y_test) # unpack the output into loss and accuracy\n",
        "print(f\"Accuracy: {accuracy}\")"
      ],
      "metadata": {
        "id": "zXe-573CJ9Cd",
        "colab": {
          "base_uri": "https://localhost:8080/"
        },
        "outputId": "8fdc5e1e-ec01-4990-9d04-884e7c4b9683"
      },
      "execution_count": 20,
      "outputs": [
        {
          "output_type": "stream",
          "name": "stdout",
          "text": [
            "\u001b[1m313/313\u001b[0m \u001b[32m━━━━━━━━━━━━━━━━━━━━\u001b[0m\u001b[37m\u001b[0m \u001b[1m0s\u001b[0m 1ms/step - accuracy: 0.1781 - loss: 0.7844\n",
            "Accuracy: 0.1842000037431717\n"
          ]
        }
      ]
    },
    {
      "cell_type": "code",
      "source": [
        " #show the first 5 data points and corresponding predictions\n",
        "predictions = model.predict(x_test[:5])\n",
        "\n",
        "# Display the images and predictions\n",
        "for i in range(5):\n",
        "    plt.figure()\n",
        "    plt.imshow(x_test[i], cmap='gray')  # Display the image in grayscale\n",
        "    plt.title(f\"Predicted: {predictions[i][0]:.2f}, Actual: {y_test[i]}\")  # Show predicted and actual labels\n",
        "    plt.show()"
      ],
      "metadata": {
        "id": "sfg-VNAtI3Be",
        "colab": {
          "base_uri": "https://localhost:8080/",
          "height": 1000
        },
        "outputId": "1e96ef36-c820-4722-f832-1dbbeb225a20"
      },
      "execution_count": 21,
      "outputs": [
        {
          "output_type": "stream",
          "name": "stdout",
          "text": [
            "\u001b[1m1/1\u001b[0m \u001b[32m━━━━━━━━━━━━━━━━━━━━\u001b[0m\u001b[37m\u001b[0m \u001b[1m0s\u001b[0m 241ms/step\n"
          ]
        },
        {
          "output_type": "display_data",
          "data": {
            "text/plain": [
              "<Figure size 640x480 with 1 Axes>"
            ],
            "image/png": "[encoded data removed]"
          },
          "metadata": {}
        },
        {
          "output_type": "display_data",
          "data": {
            "text/plain": [
              "<Figure size 640x480 with 1 Axes>"
            ],
            "image/png": "[encoded data removed]"
          },
          "metadata": {}
        },
        {
          "output_type": "display_data",
          "data": {
            "text/plain": [
              "<Figure size 640x480 with 1 Axes>"
            ],
            "image/png": "[encoded data removed]"
          },
          "metadata": {}
        },
        {
          "output_type": "display_data",
          "data": {
            "text/plain": [
              "<Figure size 640x480 with 1 Axes>"
            ],
            "image/png": "[encoded data removed]"
          },
          "metadata": {}
        },
        {
          "output_type": "display_data",
          "data": {
            "text/plain": [
              "<Figure size 640x480 with 1 Axes>"
            ],
            "image/png": "[encoded data removed]"
          },
          "metadata": {}
        }
      ]
    },
    {
      "cell_type": "code",
      "source": [
        "y_test[:5]"
      ],
      "metadata": {
        "id": "r6kcQLODKJNx",
        "colab": {
          "base_uri": "https://localhost:8080/"
        },
        "outputId": "dc0ee605-810d-48eb-c7e3-55781fac0f62"
      },
      "execution_count": 22,
      "outputs": [
        {
          "output_type": "execute_result",
          "data": {
            "text/plain": [
              "array([7, 2, 1, 0, 4], dtype=uint8)"
            ]
          },
          "metadata": {},
          "execution_count": 22
        }
      ]
    },
    {
      "cell_type": "markdown",
      "source": [
        "# Build a ANN to solve the problem as a multiclass classification\n",
        "\n",
        "see slides for the apprioriate choices\n",
        "- use dense layers\n",
        "- choose the right number of neurons in output to solve a multiclass classification problem\n",
        "- choose the right activation function on the last layer for a multiclass classification problem\n",
        "- choose the right loss function for a multiclass classification problem"
      ],
      "metadata": {
        "id": "KM6IbzFFp3vT"
      }
    },
    {
      "cell_type": "code",
      "source": [
        "# modify the architecture hyperparametrs\n",
        "prob_model = tf.keras.models.Sequential()\n",
        "# your code goes here\n",
        "prob_model.add(tf.keras.layers.Flatten(input_shape=(28,28)))\n",
        "prob_model.add(tf.keras.layers.Dense(128, activation='relu'))\n",
        "prob_model.add(tf.keras.layers.Dropout(0.2))\n",
        "prob_model.add(tf.keras.layers.Dense(10, activation='softmax'))\n",
        "prob_model.summary()"
      ],
      "metadata": {
        "id": "sKwIt-WbKPy6",
        "colab": {
          "base_uri": "https://localhost:8080/",
          "height": 311
        },
        "outputId": "e8cbb3ca-f9fd-4736-bc18-1b55852d1706"
      },
      "execution_count": 23,
      "outputs": [
        {
          "output_type": "stream",
          "name": "stderr",
          "text": [
            "/usr/local/lib/python3.10/dist-packages/keras/src/layers/reshaping/flatten.py:37: UserWarning: Do not pass an `input_shape`/`input_dim` argument to a layer. When using Sequential models, prefer using an `Input(shape)` object as the first layer in the model instead.\n",
            "  super().__init__(**kwargs)\n"
          ]
        },
        {
          "output_type": "display_data",
          "data": {
            "text/plain": [
              "\u001b[1mModel: \"sequential_1\"\u001b[0m\n"
            ],
            "text/html": [
              "<pre style=\"white-space:pre;overflow-x:auto;line-height:normal;font-family:Menlo,'DejaVu Sans Mono',consolas,'Courier New',monospace\"><span style=\"font-weight: bold\">Model: \"sequential_1\"</span>\n",
              "</pre>\n"
            ]
          },
          "metadata": {}
        },
        {
          "output_type": "display_data",
          "data": {
            "text/plain": [
              "┏━━━━━━━━━━━━━━━━━━━━━━━━━━━━━━━━━━━━━━┳━━━━━━━━━━━━━━━━━━━━━━━━━━━━━┳━━━━━━━━━━━━━━━━━┓\n",
              "┃\u001b[1m \u001b[0m\u001b[1mLayer (type)                        \u001b[0m\u001b[1m \u001b[0m┃\u001b[1m \u001b[0m\u001b[1mOutput Shape               \u001b[0m\u001b[1m \u001b[0m┃\u001b[1m \u001b[0m\u001b[1m        Param #\u001b[0m\u001b[1m \u001b[0m┃\n",
              "┡━━━━━━━━━━━━━━━━━━━━━━━━━━━━━━━━━━━━━━╇━━━━━━━━━━━━━━━━━━━━━━━━━━━━━╇━━━━━━━━━━━━━━━━━┩\n",
              "│ flatten_2 (\u001b[38;5;33mFlatten\u001b[0m)                  │ (\u001b[38;5;45mNone\u001b[0m, \u001b[38;5;34m784\u001b[0m)                 │               \u001b[38;5;34m0\u001b[0m │\n",
              "├──────────────────────────────────────┼─────────────────────────────┼─────────────────┤\n",
              "│ dense_3 (\u001b[38;5;33mDense\u001b[0m)                      │ (\u001b[38;5;45mNone\u001b[0m, \u001b[38;5;34m128\u001b[0m)                 │         \u001b[38;5;34m100,480\u001b[0m │\n",
              "├──────────────────────────────────────┼─────────────────────────────┼─────────────────┤\n",
              "│ dropout_1 (\u001b[38;5;33mDropout\u001b[0m)                  │ (\u001b[38;5;45mNone\u001b[0m, \u001b[38;5;34m128\u001b[0m)                 │               \u001b[38;5;34m0\u001b[0m │\n",
              "├──────────────────────────────────────┼─────────────────────────────┼─────────────────┤\n",
              "│ dense_4 (\u001b[38;5;33mDense\u001b[0m)                      │ (\u001b[38;5;45mNone\u001b[0m, \u001b[38;5;34m10\u001b[0m)                  │           \u001b[38;5;34m1,290\u001b[0m │\n",
              "└──────────────────────────────────────┴─────────────────────────────┴─────────────────┘\n"
            ],
            "text/html": [
              "<pre style=\"white-space:pre;overflow-x:auto;line-height:normal;font-family:Menlo,'DejaVu Sans Mono',consolas,'Courier New',monospace\">┏━━━━━━━━━━━━━━━━━━━━━━━━━━━━━━━━━━━━━━┳━━━━━━━━━━━━━━━━━━━━━━━━━━━━━┳━━━━━━━━━━━━━━━━━┓\n",
              "┃<span style=\"font-weight: bold\"> Layer (type)                         </span>┃<span style=\"font-weight: bold\"> Output Shape                </span>┃<span style=\"font-weight: bold\">         Param # </span>┃\n",
              "┡━━━━━━━━━━━━━━━━━━━━━━━━━━━━━━━━━━━━━━╇━━━━━━━━━━━━━━━━━━━━━━━━━━━━━╇━━━━━━━━━━━━━━━━━┩\n",
              "│ flatten_2 (<span style=\"color: #0087ff; text-decoration-color: #0087ff\">Flatten</span>)                  │ (<span style=\"color: #00d7ff; text-decoration-color: #00d7ff\">None</span>, <span style=\"color: #00af00; text-decoration-color: #00af00\">784</span>)                 │               <span style=\"color: #00af00; text-decoration-color: #00af00\">0</span> │\n",
              "├──────────────────────────────────────┼─────────────────────────────┼─────────────────┤\n",
              "│ dense_3 (<span style=\"color: #0087ff; text-decoration-color: #0087ff\">Dense</span>)                      │ (<span style=\"color: #00d7ff; text-decoration-color: #00d7ff\">None</span>, <span style=\"color: #00af00; text-decoration-color: #00af00\">128</span>)                 │         <span style=\"color: #00af00; text-decoration-color: #00af00\">100,480</span> │\n",
              "├──────────────────────────────────────┼─────────────────────────────┼─────────────────┤\n",
              "│ dropout_1 (<span style=\"color: #0087ff; text-decoration-color: #0087ff\">Dropout</span>)                  │ (<span style=\"color: #00d7ff; text-decoration-color: #00d7ff\">None</span>, <span style=\"color: #00af00; text-decoration-color: #00af00\">128</span>)                 │               <span style=\"color: #00af00; text-decoration-color: #00af00\">0</span> │\n",
              "├──────────────────────────────────────┼─────────────────────────────┼─────────────────┤\n",
              "│ dense_4 (<span style=\"color: #0087ff; text-decoration-color: #0087ff\">Dense</span>)                      │ (<span style=\"color: #00d7ff; text-decoration-color: #00d7ff\">None</span>, <span style=\"color: #00af00; text-decoration-color: #00af00\">10</span>)                  │           <span style=\"color: #00af00; text-decoration-color: #00af00\">1,290</span> │\n",
              "└──────────────────────────────────────┴─────────────────────────────┴─────────────────┘\n",
              "</pre>\n"
            ]
          },
          "metadata": {}
        },
        {
          "output_type": "display_data",
          "data": {
            "text/plain": [
              "\u001b[1m Total params: \u001b[0m\u001b[38;5;34m101,770\u001b[0m (397.54 KB)\n"
            ],
            "text/html": [
              "<pre style=\"white-space:pre;overflow-x:auto;line-height:normal;font-family:Menlo,'DejaVu Sans Mono',consolas,'Courier New',monospace\"><span style=\"font-weight: bold\"> Total params: </span><span style=\"color: #00af00; text-decoration-color: #00af00\">101,770</span> (397.54 KB)\n",
              "</pre>\n"
            ]
          },
          "metadata": {}
        },
        {
          "output_type": "display_data",
          "data": {
            "text/plain": [
              "\u001b[1m Trainable params: \u001b[0m\u001b[38;5;34m101,770\u001b[0m (397.54 KB)\n"
            ],
            "text/html": [
              "<pre style=\"white-space:pre;overflow-x:auto;line-height:normal;font-family:Menlo,'DejaVu Sans Mono',consolas,'Courier New',monospace\"><span style=\"font-weight: bold\"> Trainable params: </span><span style=\"color: #00af00; text-decoration-color: #00af00\">101,770</span> (397.54 KB)\n",
              "</pre>\n"
            ]
          },
          "metadata": {}
        },
        {
          "output_type": "display_data",
          "data": {
            "text/plain": [
              "\u001b[1m Non-trainable params: \u001b[0m\u001b[38;5;34m0\u001b[0m (0.00 B)\n"
            ],
            "text/html": [
              "<pre style=\"white-space:pre;overflow-x:auto;line-height:normal;font-family:Menlo,'DejaVu Sans Mono',consolas,'Courier New',monospace\"><span style=\"font-weight: bold\"> Non-trainable params: </span><span style=\"color: #00af00; text-decoration-color: #00af00\">0</span> (0.00 B)\n",
              "</pre>\n"
            ]
          },
          "metadata": {}
        }
      ]
    },
    {
      "cell_type": "code",
      "source": [
        "tf.keras.utils.plot_model(model)"
      ],
      "metadata": {
        "id": "UwzWCeHR90lq",
        "colab": {
          "base_uri": "https://localhost:8080/",
          "height": 1000
        },
        "outputId": "43669ecc-e96e-4a00-fdb2-41a62c196da2"
      },
      "execution_count": 24,
      "outputs": [
        {
          "output_type": "execute_result",
          "data": {
            "image/png": "[encoded data removed]",
            "text/plain": [
              "<IPython.core.display.Image object>"
            ]
          },
          "metadata": {},
          "execution_count": 24
        }
      ]
    },
    {
      "cell_type": "code",
      "source": [
        "# Set the loss function to SparseCategoricalCrossentropy\n",
        "loss = tf.keras.losses.SparseCategoricalCrossentropy()\n",
        "\n",
        "# Set the optimizer to Adam\n",
        "optimizer = tf.keras.optimizers.Adam()\n",
        "\n",
        "# Compile the model\n",
        "prob_model.compile(optimizer=optimizer, loss=loss, metrics=['accuracy'])\n",
        "\n",
        "# Define the EarlyStopping callback\n",
        "callback = tf.keras.callbacks.EarlyStopping(\n",
        "    monitor='val_loss',\n",
        "    patience=10,\n",
        "    restore_best_weights=True,\n",
        ")\n",
        "\n",
        "# Fit the model to the training data\n",
        "prob_training_history = prob_model.fit(\n",
        "    x_train,\n",
        "    y_train,\n",
        "    epochs=500,\n",
        "    validation_split=0.1,\n",
        "    callbacks=[callback]  # Pass the callback here\n",
        ")"
      ],
      "metadata": {
        "colab": {
          "base_uri": "https://localhost:8080/"
        },
        "id": "QmYITN20Vb-f",
        "outputId": "c866ccbf-9460-4093-bdaf-525a653e37de"
      },
      "execution_count": 25,
      "outputs": [
        {
          "output_type": "stream",
          "name": "stdout",
          "text": [
            "Epoch 1/500\n",
            "\u001b[1m1688/1688\u001b[0m \u001b[32m━━━━━━━━━━━━━━━━━━━━\u001b[0m\u001b[37m\u001b[0m \u001b[1m9s\u001b[0m 4ms/step - accuracy: 0.8521 - loss: 0.5018 - val_accuracy: 0.9658 - val_loss: 0.1244\n",
            "Epoch 2/500\n",
            "\u001b[1m1688/1688\u001b[0m \u001b[32m━━━━━━━━━━━━━━━━━━━━\u001b[0m\u001b[37m\u001b[0m \u001b[1m5s\u001b[0m 2ms/step - accuracy: 0.9520 - loss: 0.1584 - val_accuracy: 0.9738 - val_loss: 0.0902\n",
            "Epoch 3/500\n",
            "\u001b[1m1688/1688\u001b[0m \u001b[32m━━━━━━━━━━━━━━━━━━━━\u001b[0m\u001b[37m\u001b[0m \u001b[1m5s\u001b[0m 2ms/step - accuracy: 0.9654 - loss: 0.1149 - val_accuracy: 0.9767 - val_loss: 0.0786\n",
            "Epoch 4/500\n",
            "\u001b[1m1688/1688\u001b[0m \u001b[32m━━━━━━━━━━━━━━━━━━━━\u001b[0m\u001b[37m\u001b[0m \u001b[1m4s\u001b[0m 2ms/step - accuracy: 0.9714 - loss: 0.0903 - val_accuracy: 0.9788 - val_loss: 0.0741\n",
            "Epoch 5/500\n",
            "\u001b[1m1688/1688\u001b[0m \u001b[32m━━━━━━━━━━━━━━━━━━━━\u001b[0m\u001b[37m\u001b[0m \u001b[1m4s\u001b[0m 2ms/step - accuracy: 0.9764 - loss: 0.0757 - val_accuracy: 0.9820 - val_loss: 0.0640\n",
            "Epoch 6/500\n",
            "\u001b[1m1688/1688\u001b[0m \u001b[32m━━━━━━━━━━━━━━━━━━━━\u001b[0m\u001b[37m\u001b[0m \u001b[1m5s\u001b[0m 2ms/step - accuracy: 0.9786 - loss: 0.0671 - val_accuracy: 0.9810 - val_loss: 0.0667\n",
            "Epoch 7/500\n",
            "\u001b[1m1688/1688\u001b[0m \u001b[32m━━━━━━━━━━━━━━━━━━━━\u001b[0m\u001b[37m\u001b[0m \u001b[1m6s\u001b[0m 2ms/step - accuracy: 0.9816 - loss: 0.0565 - val_accuracy: 0.9817 - val_loss: 0.0647\n",
            "Epoch 8/500\n",
            "\u001b[1m1688/1688\u001b[0m \u001b[32m━━━━━━━━━━━━━━━━━━━━\u001b[0m\u001b[37m\u001b[0m \u001b[1m3s\u001b[0m 2ms/step - accuracy: 0.9841 - loss: 0.0499 - val_accuracy: 0.9828 - val_loss: 0.0660\n",
            "Epoch 9/500\n",
            "\u001b[1m1688/1688\u001b[0m \u001b[32m━━━━━━━━━━━━━━━━━━━━\u001b[0m\u001b[37m\u001b[0m \u001b[1m3s\u001b[0m 2ms/step - accuracy: 0.9854 - loss: 0.0447 - val_accuracy: 0.9828 - val_loss: 0.0601\n",
            "Epoch 10/500\n",
            "\u001b[1m1688/1688\u001b[0m \u001b[32m━━━━━━━━━━━━━━━━━━━━\u001b[0m\u001b[37m\u001b[0m \u001b[1m4s\u001b[0m 3ms/step - accuracy: 0.9857 - loss: 0.0428 - val_accuracy: 0.9838 - val_loss: 0.0638\n",
            "Epoch 11/500\n",
            "\u001b[1m1688/1688\u001b[0m \u001b[32m━━━━━━━━━━━━━━━━━━━━\u001b[0m\u001b[37m\u001b[0m \u001b[1m4s\u001b[0m 2ms/step - accuracy: 0.9863 - loss: 0.0393 - val_accuracy: 0.9848 - val_loss: 0.0616\n",
            "Epoch 12/500\n",
            "\u001b[1m1688/1688\u001b[0m \u001b[32m━━━━━━━━━━━━━━━━━━━━\u001b[0m\u001b[37m\u001b[0m \u001b[1m3s\u001b[0m 2ms/step - accuracy: 0.9884 - loss: 0.0347 - val_accuracy: 0.9825 - val_loss: 0.0641\n",
            "Epoch 13/500\n",
            "\u001b[1m1688/1688\u001b[0m \u001b[32m━━━━━━━━━━━━━━━━━━━━\u001b[0m\u001b[37m\u001b[0m \u001b[1m4s\u001b[0m 2ms/step - accuracy: 0.9882 - loss: 0.0326 - val_accuracy: 0.9838 - val_loss: 0.0690\n",
            "Epoch 14/500\n",
            "\u001b[1m1688/1688\u001b[0m \u001b[32m━━━━━━━━━━━━━━━━━━━━\u001b[0m\u001b[37m\u001b[0m \u001b[1m4s\u001b[0m 2ms/step - accuracy: 0.9890 - loss: 0.0328 - val_accuracy: 0.9837 - val_loss: 0.0735\n",
            "Epoch 15/500\n",
            "\u001b[1m1688/1688\u001b[0m \u001b[32m━━━━━━━━━━━━━━━━━━━━\u001b[0m\u001b[37m\u001b[0m \u001b[1m3s\u001b[0m 2ms/step - accuracy: 0.9891 - loss: 0.0308 - val_accuracy: 0.9848 - val_loss: 0.0678\n",
            "Epoch 16/500\n",
            "\u001b[1m1688/1688\u001b[0m \u001b[32m━━━━━━━━━━━━━━━━━━━━\u001b[0m\u001b[37m\u001b[0m \u001b[1m3s\u001b[0m 2ms/step - accuracy: 0.9912 - loss: 0.0278 - val_accuracy: 0.9835 - val_loss: 0.0713\n",
            "Epoch 17/500\n",
            "\u001b[1m1688/1688\u001b[0m \u001b[32m━━━━━━━━━━━━━━━━━━━━\u001b[0m\u001b[37m\u001b[0m \u001b[1m6s\u001b[0m 2ms/step - accuracy: 0.9912 - loss: 0.0264 - val_accuracy: 0.9837 - val_loss: 0.0757\n",
            "Epoch 18/500\n",
            "\u001b[1m1688/1688\u001b[0m \u001b[32m━━━━━━━━━━━━━━━━━━━━\u001b[0m\u001b[37m\u001b[0m \u001b[1m4s\u001b[0m 2ms/step - accuracy: 0.9914 - loss: 0.0258 - val_accuracy: 0.9842 - val_loss: 0.0736\n",
            "Epoch 19/500\n",
            "\u001b[1m1688/1688\u001b[0m \u001b[32m━━━━━━━━━━━━━━━━━━━━\u001b[0m\u001b[37m\u001b[0m \u001b[1m5s\u001b[0m 2ms/step - accuracy: 0.9911 - loss: 0.0265 - val_accuracy: 0.9830 - val_loss: 0.0743\n"
          ]
        }
      ]
    },
    {
      "cell_type": "code",
      "source": [
        "#what is the accuracy of the model? use model.evaluat to assess it\n",
        "loss, accuracy = model.evaluate(x_test, y_test)\n",
        "print(f\"Accuracy: {accuracy}\")"
      ],
      "metadata": {
        "id": "Hene5EG7Lo8Z",
        "colab": {
          "base_uri": "https://localhost:8080/"
        },
        "outputId": "a73f20b6-75a3-49fd-f903-5fe8c558cf64"
      },
      "execution_count": 26,
      "outputs": [
        {
          "output_type": "stream",
          "name": "stdout",
          "text": [
            "\u001b[1m313/313\u001b[0m \u001b[32m━━━━━━━━━━━━━━━━━━━━\u001b[0m\u001b[37m\u001b[0m \u001b[1m0s\u001b[0m 1ms/step - accuracy: 0.1781 - loss: 0.7844\n",
            "Accuracy: 0.1842000037431717\n"
          ]
        }
      ]
    },
    {
      "cell_type": "code",
      "source": [
        "# show the first 10 data points and corresponding predictions\n",
        "\n",
        "result = prob_model.predict(x_test[:10])\n",
        "result"
      ],
      "metadata": {
        "id": "WPu8ydTFMWTn",
        "colab": {
          "base_uri": "https://localhost:8080/"
        },
        "outputId": "7162060c-16a2-4e91-9abb-b184eaf70fed"
      },
      "execution_count": 27,
      "outputs": [
        {
          "output_type": "stream",
          "name": "stdout",
          "text": [
            "\u001b[1m1/1\u001b[0m \u001b[32m━━━━━━━━━━━━━━━━━━━━\u001b[0m\u001b[37m\u001b[0m \u001b[1m0s\u001b[0m 263ms/step\n"
          ]
        },
        {
          "output_type": "execute_result",
          "data": {
            "text/plain": [
              "array([[1.59559355e-09, 2.12060106e-10, 1.09896597e-07, 3.03451325e-05,\n",
              "        6.48541576e-15, 2.20656364e-08, 4.93068043e-16, 9.99969006e-01,\n",
              "        1.81596474e-10, 5.10348514e-07],\n",
              "       [1.88276372e-09, 4.60378760e-05, 9.99948144e-01, 4.67029395e-06,\n",
              "        2.19972339e-15, 2.74015886e-08, 1.63373437e-09, 4.47094076e-14,\n",
              "        1.19532899e-06, 1.99424285e-13],\n",
              "       [3.59864423e-08, 9.99309540e-01, 4.24945665e-06, 3.79135571e-07,\n",
              "        3.48175599e-05, 5.87743330e-07, 6.91162813e-06, 1.74944929e-04,\n",
              "        4.67263628e-04, 1.26144323e-06],\n",
              "       [9.99792159e-01, 7.53800244e-10, 1.90244289e-04, 8.25730751e-07,\n",
              "        8.31118086e-07, 1.20351604e-06, 1.83706209e-06, 1.55090305e-07,\n",
              "        1.05141105e-07, 1.27205694e-05],\n",
              "       [7.44346380e-07, 1.61475652e-10, 1.10702922e-06, 7.50444062e-09,\n",
              "        9.96715665e-01, 1.10200093e-09, 6.24250163e-08, 5.07765290e-05,\n",
              "        2.49990279e-07, 3.23131774e-03],\n",
              "       [9.91389956e-11, 9.99498367e-01, 2.93138447e-09, 1.61964042e-08,\n",
              "        7.08675680e-06, 6.13112339e-10, 1.58757674e-09, 4.87898127e-04,\n",
              "        6.60552132e-06, 1.58515022e-07],\n",
              "       [2.52426812e-11, 5.11876319e-09, 1.86956459e-08, 7.09268662e-08,\n",
              "        9.82916653e-01, 2.04948151e-07, 5.48016840e-11, 4.66104357e-05,\n",
              "        4.56997310e-04, 1.65794045e-02],\n",
              "       [8.61823252e-11, 1.77278481e-09, 1.08287693e-07, 2.75884631e-05,\n",
              "        1.01177866e-04, 4.65021230e-07, 1.15784608e-15, 3.41657710e-06,\n",
              "        2.32727135e-08, 9.99867201e-01],\n",
              "       [2.59093663e-10, 8.73551301e-11, 5.83846531e-06, 2.10628582e-06,\n",
              "        1.77547986e-06, 9.89154875e-01, 1.08066024e-02, 3.77959797e-09,\n",
              "        1.13874621e-05, 1.74384695e-05],\n",
              "       [1.36736339e-13, 3.47803871e-13, 1.07911821e-13, 3.82623710e-09,\n",
              "        6.27044938e-04, 4.39124084e-12, 9.94888054e-16, 1.14011273e-04,\n",
              "        7.00033013e-07, 9.99258220e-01]], dtype=float32)"
            ]
          },
          "metadata": {},
          "execution_count": 27
        }
      ]
    },
    {
      "cell_type": "code",
      "source": [
        "plt.plot(prob_training_history.history[\"loss\"], label=\"Training Loss\")\n",
        "plt.plot(prob_training_history.history[\"val_loss\"], label=\"Validation Loss\")\n",
        "plt.xlabel(\"Epochs\")\n",
        "plt.ylabel(\"Loss\")\n",
        "plt.yscale('log')  # use a log scale for the y-axis\n"
      ],
      "metadata": {
        "id": "yTGZvFBnMcsm",
        "colab": {
          "base_uri": "https://localhost:8080/",
          "height": 449
        },
        "outputId": "90abec5a-3728-4fb4-dd99-95f67a9081d2"
      },
      "execution_count": 28,
      "outputs": [
        {
          "output_type": "display_data",
          "data": {
            "text/plain": [
              "<Figure size 640x480 with 1 Axes>"
            ],
            "image/png": "[encoded data removed]"
          },
          "metadata": {}
        }
      ]
    },
    {
      "cell_type": "markdown",
      "source": [
        "The plot shows a clear sign of overfitting. The training loss continues to decrease steadily, while the validation loss starts increasing after a few epochs. This indicates that the model is becoming too specialized to the training data and failing to generalize to new data. To address this, techniques like regularization, early stopping, data augmentation, or model simplification can be employed."
      ],
      "metadata": {
        "id": "TdjT6DbBXzj3"
      }
    },
    {
      "cell_type": "markdown",
      "source": [
        "# Build a CNN (convolutional neural network) to solve the problem as a multiclass classification\n",
        "\n",
        "- you do not need the Flatten() layer anymore, the input size is not 728 but (28,28)\n",
        "- use Conv2D layers and MaxPool2D layers alternating them appropriately\n",
        "- use relu activation functions for the convolutional layers\n",
        "- add a dense layer at the end for the prediction\n",
        "- choose the right number of neurons in output to solve a multiclass classification problem\n",
        "- choose the right activation function on the last layer for a multiclass classification problem\n",
        "- choose the right loss function for a multiclass classification problem"
      ],
      "metadata": {
        "id": "k-252KDZLzIy"
      }
    },
    {
      "cell_type": "code",
      "source": [
        "cnn_model = tf.keras.models.Sequential()  # Define the CNN model\n",
        "\n",
        "# First convolutional block\n",
        "cnn_model.add(tf.keras.layers.Conv2D(32, (3, 3), activation='relu', input_shape=(28, 28, 1)))  # Convolutional layer\n",
        "cnn_model.add(tf.keras.layers.MaxPooling2D((2, 2)))  # Max pooling layer\n",
        "\n",
        "# Second convolutional block\n",
        "cnn_model.add(tf.keras.layers.Conv2D(64, (3, 3), activation='relu'))  # Convolutional layer\n",
        "cnn_model.add(tf.keras.layers.MaxPooling2D((2, 2)))  # Max pooling layer\n",
        "\n",
        "# Dense layers\n",
        "cnn_model.add(tf.keras.layers.Dense(64, activation='relu'))  # Dense layer\n",
        "cnn_model.add(tf.keras.layers.GlobalAveragePooling2D())  # Global average pooling\n",
        "cnn_model.add(tf.keras.layers.Dense(10, activation='softmax'))  # Output layer\n",
        "\n",
        "cnn_model.summary()  # Print model summary"
      ],
      "metadata": {
        "colab": {
          "base_uri": "https://localhost:8080/",
          "height": 422
        },
        "id": "RFm1KXJGZ928",
        "outputId": "978a192f-50d9-420d-cd8e-9c114d84ce25"
      },
      "execution_count": 29,
      "outputs": [
        {
          "output_type": "stream",
          "name": "stderr",
          "text": [
            "/usr/local/lib/python3.10/dist-packages/keras/src/layers/convolutional/base_conv.py:107: UserWarning: Do not pass an `input_shape`/`input_dim` argument to a layer. When using Sequential models, prefer using an `Input(shape)` object as the first layer in the model instead.\n",
            "  super().__init__(activity_regularizer=activity_regularizer, **kwargs)\n"
          ]
        },
        {
          "output_type": "display_data",
          "data": {
            "text/plain": [
              "\u001b[1mModel: \"sequential_2\"\u001b[0m\n"
            ],
            "text/html": [
              "<pre style=\"white-space:pre;overflow-x:auto;line-height:normal;font-family:Menlo,'DejaVu Sans Mono',consolas,'Courier New',monospace\"><span style=\"font-weight: bold\">Model: \"sequential_2\"</span>\n",
              "</pre>\n"
            ]
          },
          "metadata": {}
        },
        {
          "output_type": "display_data",
          "data": {
            "text/plain": [
              "┏━━━━━━━━━━━━━━━━━━━━━━━━━━━━━━━━━━━━━━┳━━━━━━━━━━━━━━━━━━━━━━━━━━━━━┳━━━━━━━━━━━━━━━━━┓\n",
              "┃\u001b[1m \u001b[0m\u001b[1mLayer (type)                        \u001b[0m\u001b[1m \u001b[0m┃\u001b[1m \u001b[0m\u001b[1mOutput Shape               \u001b[0m\u001b[1m \u001b[0m┃\u001b[1m \u001b[0m\u001b[1m        Param #\u001b[0m\u001b[1m \u001b[0m┃\n",
              "┡━━━━━━━━━━━━━━━━━━━━━━━━━━━━━━━━━━━━━━╇━━━━━━━━━━━━━━━━━━━━━━━━━━━━━╇━━━━━━━━━━━━━━━━━┩\n",
              "│ conv2d (\u001b[38;5;33mConv2D\u001b[0m)                      │ (\u001b[38;5;45mNone\u001b[0m, \u001b[38;5;34m26\u001b[0m, \u001b[38;5;34m26\u001b[0m, \u001b[38;5;34m32\u001b[0m)          │             \u001b[38;5;34m320\u001b[0m │\n",
              "├──────────────────────────────────────┼─────────────────────────────┼─────────────────┤\n",
              "│ max_pooling2d (\u001b[38;5;33mMaxPooling2D\u001b[0m)         │ (\u001b[38;5;45mNone\u001b[0m, \u001b[38;5;34m13\u001b[0m, \u001b[38;5;34m13\u001b[0m, \u001b[38;5;34m32\u001b[0m)          │               \u001b[38;5;34m0\u001b[0m │\n",
              "├──────────────────────────────────────┼─────────────────────────────┼─────────────────┤\n",
              "│ conv2d_1 (\u001b[38;5;33mConv2D\u001b[0m)                    │ (\u001b[38;5;45mNone\u001b[0m, \u001b[38;5;34m11\u001b[0m, \u001b[38;5;34m11\u001b[0m, \u001b[38;5;34m64\u001b[0m)          │          \u001b[38;5;34m18,496\u001b[0m │\n",
              "├──────────────────────────────────────┼─────────────────────────────┼─────────────────┤\n",
              "│ max_pooling2d_1 (\u001b[38;5;33mMaxPooling2D\u001b[0m)       │ (\u001b[38;5;45mNone\u001b[0m, \u001b[38;5;34m5\u001b[0m, \u001b[38;5;34m5\u001b[0m, \u001b[38;5;34m64\u001b[0m)            │               \u001b[38;5;34m0\u001b[0m │\n",
              "├──────────────────────────────────────┼─────────────────────────────┼─────────────────┤\n",
              "│ dense_5 (\u001b[38;5;33mDense\u001b[0m)                      │ (\u001b[38;5;45mNone\u001b[0m, \u001b[38;5;34m5\u001b[0m, \u001b[38;5;34m5\u001b[0m, \u001b[38;5;34m64\u001b[0m)            │           \u001b[38;5;34m4,160\u001b[0m │\n",
              "├──────────────────────────────────────┼─────────────────────────────┼─────────────────┤\n",
              "│ global_average_pooling2d             │ (\u001b[38;5;45mNone\u001b[0m, \u001b[38;5;34m64\u001b[0m)                  │               \u001b[38;5;34m0\u001b[0m │\n",
              "│ (\u001b[38;5;33mGlobalAveragePooling2D\u001b[0m)             │                             │                 │\n",
              "├──────────────────────────────────────┼─────────────────────────────┼─────────────────┤\n",
              "│ dense_6 (\u001b[38;5;33mDense\u001b[0m)                      │ (\u001b[38;5;45mNone\u001b[0m, \u001b[38;5;34m10\u001b[0m)                  │             \u001b[38;5;34m650\u001b[0m │\n",
              "└──────────────────────────────────────┴─────────────────────────────┴─────────────────┘\n"
            ],
            "text/html": [
              "<pre style=\"white-space:pre;overflow-x:auto;line-height:normal;font-family:Menlo,'DejaVu Sans Mono',consolas,'Courier New',monospace\">┏━━━━━━━━━━━━━━━━━━━━━━━━━━━━━━━━━━━━━━┳━━━━━━━━━━━━━━━━━━━━━━━━━━━━━┳━━━━━━━━━━━━━━━━━┓\n",
              "┃<span style=\"font-weight: bold\"> Layer (type)                         </span>┃<span style=\"font-weight: bold\"> Output Shape                </span>┃<span style=\"font-weight: bold\">         Param # </span>┃\n",
              "┡━━━━━━━━━━━━━━━━━━━━━━━━━━━━━━━━━━━━━━╇━━━━━━━━━━━━━━━━━━━━━━━━━━━━━╇━━━━━━━━━━━━━━━━━┩\n",
              "│ conv2d (<span style=\"color: #0087ff; text-decoration-color: #0087ff\">Conv2D</span>)                      │ (<span style=\"color: #00d7ff; text-decoration-color: #00d7ff\">None</span>, <span style=\"color: #00af00; text-decoration-color: #00af00\">26</span>, <span style=\"color: #00af00; text-decoration-color: #00af00\">26</span>, <span style=\"color: #00af00; text-decoration-color: #00af00\">32</span>)          │             <span style=\"color: #00af00; text-decoration-color: #00af00\">320</span> │\n",
              "├──────────────────────────────────────┼─────────────────────────────┼─────────────────┤\n",
              "│ max_pooling2d (<span style=\"color: #0087ff; text-decoration-color: #0087ff\">MaxPooling2D</span>)         │ (<span style=\"color: #00d7ff; text-decoration-color: #00d7ff\">None</span>, <span style=\"color: #00af00; text-decoration-color: #00af00\">13</span>, <span style=\"color: #00af00; text-decoration-color: #00af00\">13</span>, <span style=\"color: #00af00; text-decoration-color: #00af00\">32</span>)          │               <span style=\"color: #00af00; text-decoration-color: #00af00\">0</span> │\n",
              "├──────────────────────────────────────┼─────────────────────────────┼─────────────────┤\n",
              "│ conv2d_1 (<span style=\"color: #0087ff; text-decoration-color: #0087ff\">Conv2D</span>)                    │ (<span style=\"color: #00d7ff; text-decoration-color: #00d7ff\">None</span>, <span style=\"color: #00af00; text-decoration-color: #00af00\">11</span>, <span style=\"color: #00af00; text-decoration-color: #00af00\">11</span>, <span style=\"color: #00af00; text-decoration-color: #00af00\">64</span>)          │          <span style=\"color: #00af00; text-decoration-color: #00af00\">18,496</span> │\n",
              "├──────────────────────────────────────┼─────────────────────────────┼─────────────────┤\n",
              "│ max_pooling2d_1 (<span style=\"color: #0087ff; text-decoration-color: #0087ff\">MaxPooling2D</span>)       │ (<span style=\"color: #00d7ff; text-decoration-color: #00d7ff\">None</span>, <span style=\"color: #00af00; text-decoration-color: #00af00\">5</span>, <span style=\"color: #00af00; text-decoration-color: #00af00\">5</span>, <span style=\"color: #00af00; text-decoration-color: #00af00\">64</span>)            │               <span style=\"color: #00af00; text-decoration-color: #00af00\">0</span> │\n",
              "├──────────────────────────────────────┼─────────────────────────────┼─────────────────┤\n",
              "│ dense_5 (<span style=\"color: #0087ff; text-decoration-color: #0087ff\">Dense</span>)                      │ (<span style=\"color: #00d7ff; text-decoration-color: #00d7ff\">None</span>, <span style=\"color: #00af00; text-decoration-color: #00af00\">5</span>, <span style=\"color: #00af00; text-decoration-color: #00af00\">5</span>, <span style=\"color: #00af00; text-decoration-color: #00af00\">64</span>)            │           <span style=\"color: #00af00; text-decoration-color: #00af00\">4,160</span> │\n",
              "├──────────────────────────────────────┼─────────────────────────────┼─────────────────┤\n",
              "│ global_average_pooling2d             │ (<span style=\"color: #00d7ff; text-decoration-color: #00d7ff\">None</span>, <span style=\"color: #00af00; text-decoration-color: #00af00\">64</span>)                  │               <span style=\"color: #00af00; text-decoration-color: #00af00\">0</span> │\n",
              "│ (<span style=\"color: #0087ff; text-decoration-color: #0087ff\">GlobalAveragePooling2D</span>)             │                             │                 │\n",
              "├──────────────────────────────────────┼─────────────────────────────┼─────────────────┤\n",
              "│ dense_6 (<span style=\"color: #0087ff; text-decoration-color: #0087ff\">Dense</span>)                      │ (<span style=\"color: #00d7ff; text-decoration-color: #00d7ff\">None</span>, <span style=\"color: #00af00; text-decoration-color: #00af00\">10</span>)                  │             <span style=\"color: #00af00; text-decoration-color: #00af00\">650</span> │\n",
              "└──────────────────────────────────────┴─────────────────────────────┴─────────────────┘\n",
              "</pre>\n"
            ]
          },
          "metadata": {}
        },
        {
          "output_type": "display_data",
          "data": {
            "text/plain": [
              "\u001b[1m Total params: \u001b[0m\u001b[38;5;34m23,626\u001b[0m (92.29 KB)\n"
            ],
            "text/html": [
              "<pre style=\"white-space:pre;overflow-x:auto;line-height:normal;font-family:Menlo,'DejaVu Sans Mono',consolas,'Courier New',monospace\"><span style=\"font-weight: bold\"> Total params: </span><span style=\"color: #00af00; text-decoration-color: #00af00\">23,626</span> (92.29 KB)\n",
              "</pre>\n"
            ]
          },
          "metadata": {}
        },
        {
          "output_type": "display_data",
          "data": {
            "text/plain": [
              "\u001b[1m Trainable params: \u001b[0m\u001b[38;5;34m23,626\u001b[0m (92.29 KB)\n"
            ],
            "text/html": [
              "<pre style=\"white-space:pre;overflow-x:auto;line-height:normal;font-family:Menlo,'DejaVu Sans Mono',consolas,'Courier New',monospace\"><span style=\"font-weight: bold\"> Trainable params: </span><span style=\"color: #00af00; text-decoration-color: #00af00\">23,626</span> (92.29 KB)\n",
              "</pre>\n"
            ]
          },
          "metadata": {}
        },
        {
          "output_type": "display_data",
          "data": {
            "text/plain": [
              "\u001b[1m Non-trainable params: \u001b[0m\u001b[38;5;34m0\u001b[0m (0.00 B)\n"
            ],
            "text/html": [
              "<pre style=\"white-space:pre;overflow-x:auto;line-height:normal;font-family:Menlo,'DejaVu Sans Mono',consolas,'Courier New',monospace\"><span style=\"font-weight: bold\"> Non-trainable params: </span><span style=\"color: #00af00; text-decoration-color: #00af00\">0</span> (0.00 B)\n",
              "</pre>\n"
            ]
          },
          "metadata": {}
        }
      ]
    },
    {
      "cell_type": "code",
      "source": [
        "#set the loss to be approprpate for the classification, the optimizer to Adam and compile and fit as before\n",
        "# NOTE: you can either use the Sparse Categorical Loss and leave the labels as they are or use the Categorical Loss but modify the labels to be one-hot-encoded (see slides from class on trees!)\n",
        "loss = tf.keras.losses.SparseCategoricalCrossentropy()\n",
        "optimizer =  tf.keras.optimizers.Adam()\n",
        "prob_model.compile(optimizer=optimizer, loss=loss, metrics=['accuracy'])\n",
        "prob_training_history = prob_model.fit(\n",
        "    x_train,\n",
        "    y_train,\n",
        "    epochs=500,\n",
        "    validation_split=0.1,\n",
        "    callbacks=[callback]  # Pass the callback here\n",
        ")"
      ],
      "metadata": {
        "id": "NtuT2mW5r5FY",
        "colab": {
          "base_uri": "https://localhost:8080/"
        },
        "outputId": "11d74075-4c50-4419-9856-4fc223bb1d67"
      },
      "execution_count": 30,
      "outputs": [
        {
          "output_type": "stream",
          "name": "stdout",
          "text": [
            "Epoch 1/500\n",
            "\u001b[1m1688/1688\u001b[0m \u001b[32m━━━━━━━━━━━━━━━━━━━━\u001b[0m\u001b[37m\u001b[0m \u001b[1m7s\u001b[0m 3ms/step - accuracy: 0.9856 - loss: 0.0437 - val_accuracy: 0.9818 - val_loss: 0.0678\n",
            "Epoch 2/500\n",
            "\u001b[1m1688/1688\u001b[0m \u001b[32m━━━━━━━━━━━━━━━━━━━━\u001b[0m\u001b[37m\u001b[0m \u001b[1m3s\u001b[0m 2ms/step - accuracy: 0.9864 - loss: 0.0393 - val_accuracy: 0.9843 - val_loss: 0.0639\n",
            "Epoch 3/500\n",
            "\u001b[1m1688/1688\u001b[0m \u001b[32m━━━━━━━━━━━━━━━━━━━━\u001b[0m\u001b[37m\u001b[0m \u001b[1m3s\u001b[0m 2ms/step - accuracy: 0.9883 - loss: 0.0354 - val_accuracy: 0.9813 - val_loss: 0.0699\n",
            "Epoch 4/500\n",
            "\u001b[1m1688/1688\u001b[0m \u001b[32m━━━━━━━━━━━━━━━━━━━━\u001b[0m\u001b[37m\u001b[0m \u001b[1m4s\u001b[0m 2ms/step - accuracy: 0.9879 - loss: 0.0349 - val_accuracy: 0.9837 - val_loss: 0.0658\n",
            "Epoch 5/500\n",
            "\u001b[1m1688/1688\u001b[0m \u001b[32m━━━━━━━━━━━━━━━━━━━━\u001b[0m\u001b[37m\u001b[0m \u001b[1m4s\u001b[0m 2ms/step - accuracy: 0.9883 - loss: 0.0326 - val_accuracy: 0.9845 - val_loss: 0.0713\n",
            "Epoch 6/500\n",
            "\u001b[1m1688/1688\u001b[0m \u001b[32m━━━━━━━━━━━━━━━━━━━━\u001b[0m\u001b[37m\u001b[0m \u001b[1m3s\u001b[0m 2ms/step - accuracy: 0.9888 - loss: 0.0325 - val_accuracy: 0.9833 - val_loss: 0.0719\n",
            "Epoch 7/500\n",
            "\u001b[1m1688/1688\u001b[0m \u001b[32m━━━━━━━━━━━━━━━━━━━━\u001b[0m\u001b[37m\u001b[0m \u001b[1m4s\u001b[0m 2ms/step - accuracy: 0.9898 - loss: 0.0293 - val_accuracy: 0.9835 - val_loss: 0.0749\n",
            "Epoch 8/500\n",
            "\u001b[1m1688/1688\u001b[0m \u001b[32m━━━━━━━━━━━━━━━━━━━━\u001b[0m\u001b[37m\u001b[0m \u001b[1m5s\u001b[0m 2ms/step - accuracy: 0.9904 - loss: 0.0294 - val_accuracy: 0.9813 - val_loss: 0.0809\n",
            "Epoch 9/500\n",
            "\u001b[1m1688/1688\u001b[0m \u001b[32m━━━━━━━━━━━━━━━━━━━━\u001b[0m\u001b[37m\u001b[0m \u001b[1m3s\u001b[0m 2ms/step - accuracy: 0.9918 - loss: 0.0244 - val_accuracy: 0.9817 - val_loss: 0.0821\n",
            "Epoch 10/500\n",
            "\u001b[1m1688/1688\u001b[0m \u001b[32m━━━━━━━━━━━━━━━━━━━━\u001b[0m\u001b[37m\u001b[0m \u001b[1m6s\u001b[0m 2ms/step - accuracy: 0.9909 - loss: 0.0261 - val_accuracy: 0.9832 - val_loss: 0.0776\n"
          ]
        }
      ]
    },
    {
      "cell_type": "code",
      "source": [
        "#what is the accuracy of the model? use model.evaluat to assess it\n",
        "\n",
        "loss, accuracy = model.evaluate(x_test, y_test)\n",
        "print(f\"Accuracy: {accuracy}\")"
      ],
      "metadata": {
        "id": "tmhi2mdGr5_X",
        "colab": {
          "base_uri": "https://localhost:8080/"
        },
        "outputId": "b7039cda-9394-4c3c-a94a-83437df93f3d"
      },
      "execution_count": 31,
      "outputs": [
        {
          "output_type": "stream",
          "name": "stdout",
          "text": [
            "\u001b[1m313/313\u001b[0m \u001b[32m━━━━━━━━━━━━━━━━━━━━\u001b[0m\u001b[37m\u001b[0m \u001b[1m0s\u001b[0m 1ms/step - accuracy: 0.1781 - loss: 0.7844\n",
            "Accuracy: 0.1842000037431717\n"
          ]
        }
      ]
    },
    {
      "cell_type": "code",
      "source": [
        "# show the first 10 data points and corresponding predictions\n",
        "\n",
        "result = prob_model.predict(x_test[:10])\n",
        "result"
      ],
      "metadata": {
        "id": "MwHC9Ai2r-ox",
        "colab": {
          "base_uri": "https://localhost:8080/"
        },
        "outputId": "a428954e-42c0-4848-88d8-d8b5648810b6"
      },
      "execution_count": 32,
      "outputs": [
        {
          "output_type": "stream",
          "name": "stdout",
          "text": [
            "\u001b[1m1/1\u001b[0m \u001b[32m━━━━━━━━━━━━━━━━━━━━\u001b[0m\u001b[37m\u001b[0m \u001b[1m0s\u001b[0m 114ms/step\n"
          ]
        },
        {
          "output_type": "execute_result",
          "data": {
            "text/plain": [
              "array([[3.08974152e-10, 2.21019383e-11, 3.64098218e-09, 5.44202921e-05,\n",
              "        2.18474705e-16, 3.15418225e-09, 2.15701965e-18, 9.99945402e-01,\n",
              "        6.14742198e-12, 1.68758945e-07],\n",
              "       [1.73571695e-11, 4.46187369e-05, 9.99954462e-01, 1.83319543e-07,\n",
              "        4.17409333e-17, 4.05028538e-10, 1.09997904e-08, 1.63240573e-16,\n",
              "        7.66828293e-07, 5.40275201e-16],\n",
              "       [2.70472555e-09, 9.99868751e-01, 1.65057645e-06, 4.43814443e-08,\n",
              "        4.23739175e-06, 2.84334476e-08, 2.00561294e-06, 6.08046730e-06,\n",
              "        1.17172392e-04, 2.11958202e-08],\n",
              "       [9.99751747e-01, 1.50676427e-09, 2.03818461e-04, 1.04780711e-05,\n",
              "        8.10099650e-08, 3.26046529e-06, 3.19067954e-06, 5.61164779e-06,\n",
              "        4.03980804e-09, 2.17922188e-05],\n",
              "       [2.70416556e-09, 3.23694955e-13, 7.35372652e-09, 2.82542945e-09,\n",
              "        9.98604000e-01, 3.78068188e-10, 2.25536279e-09, 8.90267756e-07,\n",
              "        8.04638223e-09, 1.39514566e-03],\n",
              "       [1.06087084e-11, 9.99987006e-01, 6.50909493e-10, 1.71201608e-09,\n",
              "        2.53976935e-07, 1.56010951e-11, 2.56821620e-10, 8.54698465e-06,\n",
              "        4.21860204e-06, 1.41637968e-09],\n",
              "       [1.44014947e-14, 1.58548577e-10, 2.80007562e-11, 2.78672783e-08,\n",
              "        9.98883307e-01, 2.28065369e-06, 7.73089492e-13, 1.41115251e-07,\n",
              "        1.14490744e-04, 9.99831129e-04],\n",
              "       [3.49676191e-12, 2.16292442e-10, 5.49091617e-08, 1.16790970e-05,\n",
              "        1.18632488e-04, 1.71775673e-06, 1.57258549e-16, 4.38082907e-07,\n",
              "        2.43293847e-08, 9.99867439e-01],\n",
              "       [3.26272077e-14, 7.45010268e-14, 9.68215286e-10, 4.10356416e-09,\n",
              "        5.30047188e-08, 9.91921782e-01, 8.07471760e-03, 1.73617425e-12,\n",
              "        2.77661826e-07, 3.27405792e-06],\n",
              "       [2.35550118e-17, 1.12122524e-15, 5.52041680e-17, 1.92183833e-08,\n",
              "        5.95824094e-05, 1.83416390e-11, 8.48464034e-20, 1.12033365e-06,\n",
              "        1.14938263e-08, 9.99939203e-01]], dtype=float32)"
            ]
          },
          "metadata": {},
          "execution_count": 32
        }
      ]
    },
    {
      "cell_type": "code",
      "source": [
        "#show the loss curves and comment\n",
        "plt.plot(prob_training_history.history[\"loss\"], label=\"Training Loss\")\n",
        "plt.plot(prob_training_history.history[\"val_loss\"], label=\"Validation Loss\")\n",
        "plt.xlabel(\"Epochs\")\n",
        "plt.ylabel(\"Loss\")\n",
        "plt.yscale('log') #use log scale for the y axis\n"
      ],
      "metadata": {
        "id": "9QhnqILIr72Z",
        "colab": {
          "base_uri": "https://localhost:8080/",
          "height": 449
        },
        "outputId": "38b73aa5-78d7-4f4d-feda-c390ca8b7ef9"
      },
      "execution_count": 33,
      "outputs": [
        {
          "output_type": "display_data",
          "data": {
            "text/plain": [
              "<Figure size 640x480 with 1 Axes>"
            ],
            "image/png": "[encoded data removed]"
          },
          "metadata": {}
        }
      ]
    },
    {
      "cell_type": "markdown",
      "source": [
        "The plot shows a slight divergence between the training and validation loss curves, suggesting potential overfitting. While the training loss continues to decrease, the validation loss plateaus after a few epochs. To mitigate this, strategies like early stopping, regularization, or data augmentation could be considered. However, the extent of overfitting is not severe, and the model seems to be generalizing reasonably well."
      ],
      "metadata": {
        "id": "kcHW_g7-dlpT"
      }
    },
    {
      "cell_type": "code",
      "source": [],
      "metadata": {
        "id": "gjETS3DcbW_g"
      },
      "execution_count": 33,
      "outputs": []
    }
  ]
}